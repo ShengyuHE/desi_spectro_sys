{
 "cells": [
  {
   "cell_type": "markdown",
   "metadata": {},
   "source": [
    "## Window Function and Wmatrix"
   ]
  },
  {
   "cell_type": "code",
   "execution_count": 2,
   "metadata": {},
   "outputs": [],
   "source": [
    "# loading the desilike enviroment\n",
    "import os\n",
    "import glob\n",
    "import numpy as np\n",
    "from matplotlib import pyplot as plt\n",
    "\n",
    "from cosmoprimo.fiducial import DESI\n",
    "from desilike.theories.galaxy_clustering import DirectPowerSpectrumTemplate, ShapeFitPowerSpectrumTemplate, StandardPowerSpectrumTemplate\n",
    "from desilike.theories.galaxy_clustering import FOLPSTracerPowerSpectrumMultipoles, FOLPSRCTracerPowerSpectrumMultipoles\n",
    "from desilike.observables.galaxy_clustering import TracerPowerSpectrumMultipolesObservable\n",
    "from desilike.likelihoods import ObservablesGaussianLikelihood\n",
    "from desilike import plotting\n",
    "from desilike import setup_logging\n",
    "setup_logging()\n",
    "\n",
    "plt.rcParams['axes.labelsize'] = 14\n",
    "plt.rcParams['axes.titlesize'] = 14\n",
    "plt.rcParams['legend.fontsize'] = 14\n",
    "%config InlineBackend.figure_format = 'retina'\n",
    "%matplotlib inline"
   ]
  },
  {
   "cell_type": "code",
   "execution_count": 3,
   "metadata": {},
   "outputs": [],
   "source": [
    "# vairables for pk calculation\n",
    "tracer = \"ELG_LOPnotqso\" \n",
    "ran_mock_num = \"10\" # ELG:10; LRG:8; QSO:4\n",
    "region = \"NGC\"  # NGC or SGC\n",
    "mocks_fn = os.path.join(os.environ['SCRATCH'], \"mocks/\")\n",
    "pk_dir = os.path.join(os.environ['SCRATCH'], \"data/pk/\")\n",
    "# pk_dir = os.path.join(os.environ['HOME'], \"project_rc/main/data/pk/\")\n",
    "output_dir = '/global/homes/s/shengyu/project_rc/main/results'\n",
    "cov_dir = '/global/cfs/cdirs/desi/survey/catalogs/Y1/mocks/SecondGenMocks/EZmock/desipipe/v1/ffa/2pt/'\n",
    "\n",
    "# load the pk file, the pk calculated from the pkrun.py\n",
    "pk_fn = pk_dir+f'pkpoles_{tracer}_{region}_0.8_1.1_default_FKP_lin_thetacut0.05.npy'\n",
    "wmatrix_fn = pk_dir+f'wmatrix_smooth_{tracer}_{region}_0.8_1.1_default_FKP_lin_thetacut0.05.npy'\n",
    "\n",
    "# load the covariance matrix from the Ezmocks\n",
    "cov_fns = []\n",
    "cov_fn = f'pkpoles_ELG_LOP_{region}_z0.8-1.1_default_FKP_lin_nran10_cellsize6_boxsize9000.npy'\n",
    "for i in range(100, 200):\n",
    "    mock_dir = f'mock{i}/pk/'\n",
    "    cov_fns.extend(glob.glob(os.path.join(cov_dir,  mock_dir, cov_fn), recursive=True))\n",
    "    "
   ]
  },
  {
   "cell_type": "code",
   "execution_count": 6,
   "metadata": {},
   "outputs": [
    {
     "name": "stdout",
     "output_type": "stream",
     "text": [
      "Applyting the window function difference:\n",
      "[000174.92] [0/1] 10-21 19:42  TracerPowerSpectrumMultipolesObservable INFO     Loading 1 file ['/pscratch/sd/s/shengyu/data/pk/pkpoles_ELG_LOPnotqso_NGC_0.8_1.1_default_FKP_lin_thetacut0.05.npy'].\n",
      "[000174.95] [0/1] 10-21 19:42  TracerPowerSpectrumMultipolesObservable INFO     Loading 100 files [/global/cfs/cdirs/desi/survey/catalogs/Y1/mocks/SecondGenMocks/EZmock/desipipe/v1/ffa/2pt/mock100/pk/pkpoles_ELG_LOP_NGC_z0.8-1.1_default_FKP_lin_nran10_cellsize6_boxsize9000.npy, ..., /global/cfs/cdirs/desi/survey/catalogs/Y1/mocks/SecondGenMocks/EZmock/desipipe/v1/ffa/2pt/mock120/pk/pkpoles_ELG_LOP_NGC_z0.8-1.1_default_FKP_lin_nran10_cellsize6_boxsize9000.npy, ..., /global/cfs/cdirs/desi/survey/catalogs/Y1/mocks/SecondGenMocks/EZmock/desipipe/v1/ffa/2pt/mock140/pk/pkpoles_ELG_LOP_NGC_z0.8-1.1_default_FKP_lin_nran10_cellsize6_boxsize9000.npy, ..., /global/cfs/cdirs/desi/survey/catalogs/Y1/mocks/SecondGenMocks/EZmock/desipipe/v1/ffa/2pt/mock160/pk/pkpoles_ELG_LOP_NGC_z0.8-1.1_default_FKP_lin_nran10_cellsize6_boxsize9000.npy, ..., /global/cfs/cdirs/desi/survey/catalogs/Y1/mocks/SecondGenMocks/EZmock/desipipe/v1/ffa/2pt/mock180/pk/pkpoles_ELG_LOP_NGC_z0.8-1.1_default_FKP_lin_nran10_cellsize6_boxsize9000.npy].\n"
     ]
    },
    {
     "name": "stdout",
     "output_type": "stream",
     "text": [
      "[000178.88] [0/1] 10-21 19:42  ObservablesGaussianLikelihood INFO     Covariance matrix with 80 points built from 100 observations.\n",
      "[000178.88] [0/1] 10-21 19:42  ObservablesGaussianLikelihood INFO     ...resulting in a Hartlap 2007 factor of 0.1818.\n",
      "[000181.98] [0/1] 10-21 19:42  ObservablesGaussianLikelihood INFO     Covariance matrix with 80 points built from 100 observations, varying 12 parameters.\n",
      "[000181.98] [0/1] 10-21 19:42  ObservablesGaussianLikelihood INFO     ...resulting in a Percival 2014 factor of 2.8296.\n",
      "no wmatrix: -1581.829644319645\n",
      "[000182.63] [0/1] 10-21 19:42  TracerPowerSpectrumMultipolesObservable INFO     Loading 1 file ['/pscratch/sd/s/shengyu/data/pk/pkpoles_ELG_LOPnotqso_NGC_0.8_1.1_default_FKP_lin_thetacut0.05.npy'].\n",
      "[000182.66] [0/1] 10-21 19:42  TracerPowerSpectrumMultipolesObservable INFO     Loading 100 files [/global/cfs/cdirs/desi/survey/catalogs/Y1/mocks/SecondGenMocks/EZmock/desipipe/v1/ffa/2pt/mock100/pk/pkpoles_ELG_LOP_NGC_z0.8-1.1_default_FKP_lin_nran10_cellsize6_boxsize9000.npy, ..., /global/cfs/cdirs/desi/survey/catalogs/Y1/mocks/SecondGenMocks/EZmock/desipipe/v1/ffa/2pt/mock120/pk/pkpoles_ELG_LOP_NGC_z0.8-1.1_default_FKP_lin_nran10_cellsize6_boxsize9000.npy, ..., /global/cfs/cdirs/desi/survey/catalogs/Y1/mocks/SecondGenMocks/EZmock/desipipe/v1/ffa/2pt/mock140/pk/pkpoles_ELG_LOP_NGC_z0.8-1.1_default_FKP_lin_nran10_cellsize6_boxsize9000.npy, ..., /global/cfs/cdirs/desi/survey/catalogs/Y1/mocks/SecondGenMocks/EZmock/desipipe/v1/ffa/2pt/mock160/pk/pkpoles_ELG_LOP_NGC_z0.8-1.1_default_FKP_lin_nran10_cellsize6_boxsize9000.npy, ..., /global/cfs/cdirs/desi/survey/catalogs/Y1/mocks/SecondGenMocks/EZmock/desipipe/v1/ffa/2pt/mock180/pk/pkpoles_ELG_LOP_NGC_z0.8-1.1_default_FKP_lin_nran10_cellsize6_boxsize9000.npy].\n",
      "[000184.05] [0/1] 10-21 19:42  MeshFFTWindow             INFO     Loading /pscratch/sd/s/shengyu/data/pk/wmatrix_smooth_ELG_LOPnotqso_NGC_0.8_1.1_default_FKP_lin_thetacut0.05.npy.\n",
      "[000184.11] [0/1] 10-21 19:42  BaseMatrix                INFO     Loading /pscratch/sd/s/shengyu/data/pk/wmatrix_smooth_ELG_LOPnotqso_NGC_0.8_1.1_default_FKP_lin_thetacut0.05.npy.\n",
      "[000189.06] [0/1] 10-21 19:43  ObservablesGaussianLikelihood INFO     Covariance matrix with 80 points built from 100 observations.\n",
      "[000189.06] [0/1] 10-21 19:43  ObservablesGaussianLikelihood INFO     ...resulting in a Hartlap 2007 factor of 0.1818.\n",
      "[000192.08] [0/1] 10-21 19:43  ObservablesGaussianLikelihood INFO     Covariance matrix with 80 points built from 100 observations, varying 13 parameters.\n",
      "[000192.08] [0/1] 10-21 19:43  ObservablesGaussianLikelihood INFO     ...resulting in a Percival 2014 factor of 2.7061.\n",
      "with wmatrix no kin: -1051.999621014674\n",
      "[000195.44] [0/1] 10-21 19:43  TracerPowerSpectrumMultipolesObservable INFO     Loading 1 file ['/pscratch/sd/s/shengyu/data/pk/pkpoles_ELG_LOPnotqso_NGC_0.8_1.1_default_FKP_lin_thetacut0.05.npy'].\n",
      "[000195.46] [0/1] 10-21 19:43  TracerPowerSpectrumMultipolesObservable INFO     Loading 100 files [/global/cfs/cdirs/desi/survey/catalogs/Y1/mocks/SecondGenMocks/EZmock/desipipe/v1/ffa/2pt/mock100/pk/pkpoles_ELG_LOP_NGC_z0.8-1.1_default_FKP_lin_nran10_cellsize6_boxsize9000.npy, ..., /global/cfs/cdirs/desi/survey/catalogs/Y1/mocks/SecondGenMocks/EZmock/desipipe/v1/ffa/2pt/mock120/pk/pkpoles_ELG_LOP_NGC_z0.8-1.1_default_FKP_lin_nran10_cellsize6_boxsize9000.npy, ..., /global/cfs/cdirs/desi/survey/catalogs/Y1/mocks/SecondGenMocks/EZmock/desipipe/v1/ffa/2pt/mock140/pk/pkpoles_ELG_LOP_NGC_z0.8-1.1_default_FKP_lin_nran10_cellsize6_boxsize9000.npy, ..., /global/cfs/cdirs/desi/survey/catalogs/Y1/mocks/SecondGenMocks/EZmock/desipipe/v1/ffa/2pt/mock160/pk/pkpoles_ELG_LOP_NGC_z0.8-1.1_default_FKP_lin_nran10_cellsize6_boxsize9000.npy, ..., /global/cfs/cdirs/desi/survey/catalogs/Y1/mocks/SecondGenMocks/EZmock/desipipe/v1/ffa/2pt/mock180/pk/pkpoles_ELG_LOP_NGC_z0.8-1.1_default_FKP_lin_nran10_cellsize6_boxsize9000.npy].\n",
      "[000196.75] [0/1] 10-21 19:43  MeshFFTWindow             INFO     Loading /pscratch/sd/s/shengyu/data/pk/wmatrix_smooth_ELG_LOPnotqso_NGC_0.8_1.1_default_FKP_lin_thetacut0.05.npy.\n",
      "[000196.80] [0/1] 10-21 19:43  BaseMatrix                INFO     Loading /pscratch/sd/s/shengyu/data/pk/wmatrix_smooth_ELG_LOPnotqso_NGC_0.8_1.1_default_FKP_lin_thetacut0.05.npy.\n",
      "[000202.09] [0/1] 10-21 19:43  ObservablesGaussianLikelihood INFO     Covariance matrix with 80 points built from 100 observations.\n",
      "[000202.09] [0/1] 10-21 19:43  ObservablesGaussianLikelihood INFO     ...resulting in a Hartlap 2007 factor of 0.1818.\n",
      "[000203.98] [0/1] 10-21 19:43  ObservablesGaussianLikelihood INFO     Covariance matrix with 80 points built from 100 observations, varying 6 parameters.\n",
      "[000203.98] [0/1] 10-21 19:43  ObservablesGaussianLikelihood INFO     ...resulting in a Percival 2014 factor of 3.7870.\n",
      "with wmatrix and kin: -666.2076623200635\n"
     ]
    }
   ],
   "source": [
    "# set the k bins\n",
    "kmin     = 0.005\n",
    "kmax     = 0.205\n",
    "binning  = 0.005\n",
    "k_ev     = np.arange(kmin, kmax, binning)\n",
    "klen     = len(k_ev)\n",
    "klim     = {ell*2: (kmin,kmax,binning) for ell in range(2)}\n",
    "\n",
    "cosmo = DESI()\n",
    "template = DirectPowerSpectrumTemplate(fiducial='DESI')\n",
    "theory = FOLPSRCTracerPowerSpectrumMultipoles(template=template)\n",
    "\n",
    "# the difference of observable with and without wmatrix, only changing the theory\n",
    "observable1 = TracerPowerSpectrumMultipolesObservable(data= pk_fn, \n",
    "                                                     klim=klim, \n",
    "                                                     covariance = cov_fns,\n",
    "                                                     theory=theory)\n",
    "likelihood1 = ObservablesGaussianLikelihood(observable1)\n",
    "observable2 = TracerPowerSpectrumMultipolesObservable(data= pk_fn, \n",
    "                                                     klim=klim, \n",
    "                                                     covariance = cov_fns,\n",
    "                                                     theory=theory,\n",
    "                                                     wmatrix=wmatrix_fn)\n",
    "likelihood2 = ObservablesGaussianLikelihood(observable2)\n",
    "observable3 = TracerPowerSpectrumMultipolesObservable(data= pk_fn, \n",
    "                                                     klim=klim, \n",
    "                                                     covariance = cov_fns,\n",
    "                                                     kin=np.arange(0.001, 0.35, 0.002),\n",
    "                                                     wmatrix=wmatrix_fn)\n",
    "likelihood3 = ObservablesGaussianLikelihood(observable3)\n",
    "print(\"Applyting the window function difference:\")\n",
    "print(\"no wmatrix:\", likelihood1())\n",
    "print(\"with wmatrix no kin:\", likelihood2())\n",
    "print(\"with wmatrix and kin:\",likelihood3())\n",
    "# fig1= observable1.plot()\n",
    "# fig2= observable2.plot()\n",
    "# fig3= observable2.plot()\n"
   ]
  }
 ],
 "metadata": {
  "kernelspec": {
   "display_name": "Python 3",
   "language": "python",
   "name": "python3"
  },
  "language_info": {
   "codemirror_mode": {
    "name": "ipython",
    "version": 3
   },
   "file_extension": ".py",
   "mimetype": "text/x-python",
   "name": "python",
   "nbconvert_exporter": "python",
   "pygments_lexer": "ipython3",
   "version": "3.9.20"
  }
 },
 "nbformat": 4,
 "nbformat_minor": 2
}
