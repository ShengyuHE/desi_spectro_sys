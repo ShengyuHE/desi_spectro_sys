{
 "cells": [
  {
   "cell_type": "markdown",
   "metadata": {},
   "source": [
    "## FKP Weight Adjustment for Redshift Catastrophics\n",
    "\n",
    "This notebook focuses on adjusting FKP weights in DESI mock data for different tracer, addressing redshift catastrophic types (`Z_failures`).\n",
    "- Calculation of FKP weight adjustments by `FKPupdate` for redshift discrepancies in catastrophic cases\n",
    "- Optimized implementation with `FKPupdate_opt` for optimization version\n",
    "- Comparison of FKP weight outputs across standard and optimized approaches"
   ]
  },
  {
   "cell_type": "code",
   "execution_count": 1,
   "metadata": {},
   "outputs": [],
   "source": [
    "import os\n",
    "import glob\n",
    "import time\n",
    "import fitsio\n",
    "import argparse\n",
    "import numpy as np\n",
    "from astropy.io import fits\n",
    "from astropy.table import Table\n",
    "from matplotlib import pyplot as plt\n",
    "from scipy.spatial import cKDTree\n",
    "\n",
    "plt.rcParams['axes.labelsize'] = 14\n",
    "plt.rcParams['axes.titlesize'] = 14\n",
    "plt.rcParams['legend.fontsize'] = 14\n",
    "%config InlineBackend.figure_format = 'retina'\n",
    "%matplotlib inline\n",
    "%load_ext line_profiler"
   ]
  },
  {
   "cell_type": "code",
   "execution_count": 2,
   "metadata": {},
   "outputs": [],
   "source": [
    "c = 299792 # speed of light in km/s\n",
    "P0_values = {'QSO': 6000, 'LRG': 10000, 'ELG_LOPnotqso': 4000, 'BGS': 7000}\n",
    "NRAN_values = {'ELG_LOPnotqso':10, 'LRG':8, 'QSO':4}"
   ]
  },
  {
   "cell_type": "code",
   "execution_count": null,
   "metadata": {},
   "outputs": [],
   "source": [
    "def NXnorm(catalog_fn, nz_fn):\n",
    "    #Calculate the NXnorm for the catalog, norm = NX/n(z)\n",
    "    catalog = Table(fitsio.read(catalog_fn)) \n",
    "    nz      = np.loadtxt(nz_fn)\n",
    "    tree    = cKDTree(nz[:, 0].reshape(-1, 1))\n",
    "    _, ind_rawNZ = tree.query(catalog['Z'].reshape(-1, 1))\n",
    "    norm         = catalog['NX']/nz[ind_rawNZ,3]\n",
    "    return norm\n",
    "\n",
    "def FKPupdate_opt(tracer, catalog_fn, nz_fn, catas_type, norm):\n",
    "    P0 = P0_values.get(tracer, None)\n",
    "    NRAN = NRAN_values.get(tracer, None)\n",
    "    T0 = time.time()\n",
    "    catalog=Table(fitsio.read(catalog_fn))\n",
    "    # Check for Z_{catas_type} existence\n",
    "    if f'Z_{catas_type}' not in catalog.colnames:\n",
    "        raise ValueError(f\"Invalid Zcatas type: '{catas_type}'.\")\n",
    "    catalog[f'FKP_{catas_type}'] = catalog['WEIGHT_FKP'].copy()\n",
    "    # Load the nz_catas and create the cKDTree\n",
    "    nz = np.loadtxt(nz_fn)\n",
    "    tree = cKDTree(nz[:, 0].reshape(-1, 1)) \n",
    "    # caluclate the completeness rescaling of nz for FKP weight\n",
    "    dv = (catalog[f'Z_{catas_type}'] - catalog['Z']) / (1 + catalog['Z']) * c\n",
    "    dz = catalog[f'Z_{catas_type}'] - catalog['Z']\n",
    "    # tmp      = np.argsort(catalog['RA'], kind='mergesort')\n",
    "    tmp      = np.argsort(catalog,order=['RA', 'DEC'])\n",
    "    catalog  = catalog[tmp]\n",
    "    norm     = norm[tmp]\n",
    "    dv       = dv[tmp]\n",
    "    NX       = catalog['NX'].copy()\n",
    "    norm[norm==0] = np.nan\n",
    "    print('there are {} samples to find new FKP'.format(np.sum((dv!=0)&(np.isnan(norm)))))\n",
    "    for ID in np.where((dv!=0)&(np.isnan(norm)))[0]:\n",
    "        if (2<ID)&(ID<len(catalog)-2):\n",
    "            norm[ID] = np.nanmedian(norm[[ID-2,ID-1,ID+1,ID+2]])\n",
    "        elif ID<2:\n",
    "            norm[ID] = np.nanmedian(norm[[ID+1,ID+2]])\n",
    "        elif ID>len(catalog)-2:\n",
    "            norm[ID] = np.nanmedian(norm[[ID-2,ID-1]])\n",
    "        # update NX for norm ==0\n",
    "        ind_newNZ = np.argmin(abs(catalog[f'Z_{catas_type}'][ID]-nz[:,0]))\n",
    "        NX[ID] = norm[ID]*nz[ind_newNZ,3]\n",
    "    # update NX and WEIGHT_FKP columns for all catastrophics\n",
    "    sel = dv != 0\n",
    "    _, ind_newNZ = tree.query(catalog[f'Z_{catas_type}'][sel].reshape(-1, 1))\n",
    "    NX[sel] = norm[sel] * nz[ind_newNZ, 3]\n",
    "    catalog[f'FKP_{catas_type}'][sel] = 1 / (NX[sel] * P0 + 1)\n",
    "    catalog[f'FKP_{catas_type}'][np.isnan(catalog[f'FKP_{catas_type}'])] = 1\n",
    "    print('implement {} catastrophophics took time: {:.2f}s'.format(catas_type, time.time()-T0))\n",
    "    # catalog.write(catalog_fn, overwrite=True)\n",
    "    print(f'{catas_type} catastrophics FKP corrected')\n",
    "    return(catalog[f'FKP_{catas_type}'])\n"
   ]
  },
  {
   "cell_type": "code",
   "execution_count": 9,
   "metadata": {},
   "outputs": [],
   "source": [
    "mock_fn   = '/pscratch/sd/s/shengyu/mocks/Y1/Abacus_v4_2/altmtl0/iron/mock0/LSScats/'\n",
    "catas_type = 'failures'\n",
    "# catalog_fn = './example_files/ELG_LOPnotqso_NGC_clustering.dat.fits'\n",
    "# nz_fn = './example_files/ELG_LOPnotqso_NGC_nz.txt'\n",
    "# nz_catas_fn = f'./example_files/ELG_LOPnotqso_NGC_nz_{catas_type}.txt'\n",
    "\n",
    "catalog_fn = mock_fn+'./ELG_LOPnotqso_NGC_3_clustering.ran.fits'\n",
    "nz_fn = mock_fn+'./ELG_LOPnotqso_NGC_nz.txt'\n",
    "nz_catas_fn = mock_fn+f'./ELG_LOPnotqso_NGC_nz_{catas_type}.txt'\n",
    "\n",
    "norm = NXnorm(catalog_fn, nz_fn)\n",
    "# a=FKPupdate_opt('ELG_LOPnotqso', catalog_fn, nz_catas_fn, catas_type, norm)"
   ]
  },
  {
   "cell_type": "code",
   "execution_count": 6,
   "metadata": {},
   "outputs": [
    {
     "name": "stdout",
     "output_type": "stream",
     "text": [
      "Z_write: 1.3485186\n",
      "Z_in_nz: 1.3450000286102295\n",
      "nz<class 'type'>: 0.0004089235831811707\n"
     ]
    }
   ],
   "source": [
    "# test the cKDTree and the nz\n",
    "catalog = Table(fitsio.read(catalog_fn)) \n",
    "nz_catas= np.loadtxt(nz_catas_fn)\n",
    "tree    = cKDTree(nz_catas[:, 0].reshape(-1, 1))\n",
    "_, ind_rawNZ = tree.query(catalog[f'Z_{catas_type}'].reshape(-1, 1))\n",
    "\n",
    "index = np.random.randint(0, len(ind_rawNZ), size=1)\n",
    "print('Z_write:',catalog[f'Z_{catas_type}'][index][0])\n",
    "print('Z_in_nz:',nz_catas[ind_rawNZ,0][index][0])\n",
    "print(f'nz{type}:',nz_catas[ind_rawNZ,3][index][0])\n",
    "# plt.scatter(catalog[f'Z'], norm, lw=0.001)"
   ]
  },
  {
   "cell_type": "code",
   "execution_count": 10,
   "metadata": {},
   "outputs": [
    {
     "name": "stdout",
     "output_type": "stream",
     "text": [
      "[    108     183     213 ... 9828941 9828990 9829013]\n"
     ]
    }
   ],
   "source": [
    "# find the FKP difference\n",
    "catalog = Table(fitsio.read(catalog_fn))\n",
    "FKP_diff_indix = np.nonzero(catalog['WEIGHT_FKP']-catalog[f'FKP_{catas_type}'])\n",
    "print(FKP_diff_indix[0])"
   ]
  },
  {
   "cell_type": "code",
   "execution_count": 11,
   "metadata": {},
   "outputs": [
    {
     "name": "stdout",
     "output_type": "stream",
     "text": [
      "FKP_init: 0.6959846445135025\n",
      "FKP_catas: 0.7448650056634843\n",
      "calculate: 0.7448650056634843\n"
     ]
    }
   ],
   "source": [
    "#test if the FKP weight is set correctly\n",
    "index = 213\n",
    "print('FKP_init:', catalog['WEIGHT_FKP'][index])\n",
    "print(f'FKP_catas:',catalog[f'FKP_{catas_type}'][index])\n",
    "\n",
    "P0 = P0_values.get('ELG_LOPnotqso', None)\n",
    "nz_catas= np.loadtxt(nz_catas_fn)\n",
    "tree    = cKDTree(nz_catas[:, 0].reshape(-1, 1))\n",
    "_, ind_rawNZ = tree.query(catalog[f'Z_{catas_type}'][index].reshape(-1, 1))\n",
    "# print(nz_catas[ind_rawNZ,3])\n",
    "\n",
    "FKP = 1/(1+P0*nz_catas[ind_rawNZ,3]*norm[index])\n",
    "print('calculate:', FKP[0])"
   ]
  },
  {
   "cell_type": "code",
   "execution_count": 12,
   "metadata": {},
   "outputs": [
    {
     "name": "stdout",
     "output_type": "stream",
     "text": [
      "there are 4244 samples to find new FKP\n",
      "implement failures catastrophophics took time: 13.77s\n",
      "failures catastrophics FKP corrected\n"
     ]
    },
    {
     "name": "stdout",
     "output_type": "stream",
     "text": [
      "Timer unit: 1e-09 s\n",
      "\n",
      "Total time: 25.1238 s\n",
      "File: /tmp/ipykernel_115592/2561505302.py\n",
      "Function: FKPupdate_opt at line 10\n",
      "\n",
      "Line #      Hits         Time  Per Hit   % Time  Line Contents\n",
      "==============================================================\n",
      "    10                                           def FKPupdate_opt(tracer, catalog_fn, nz_fn, catas_type, norm):\n",
      "    11         1       4228.0   4228.0      0.0      P0 = P0_values.get(tracer, None)\n",
      "    12         1       1814.0   1814.0      0.0      NRAN = NRAN_values.get(tracer, None)\n",
      "    13         1       3617.0   3617.0      0.0      T0 = time.time()\n",
      "    14         1 3449680390.0    3e+09     13.7      catalog=Table(fitsio.read(catalog_fn))\n",
      "    15                                               # Check for Z_{catas_type} existence\n",
      "    16         1      22071.0  22071.0      0.0      if f'Z_{catas_type}' not in catalog.colnames:\n",
      "    17                                                   raise ValueError(f\"Invalid Zcatas type: '{catas_type}'.\")\n",
      "    18         1   76629763.0    8e+07      0.3      catalog[f'FKP_{catas_type}'] = catalog['WEIGHT_FKP'].copy()\n",
      "    19                                               # Load the nz_catas and create the cKDTree\n",
      "    20         1    1919281.0    2e+06      0.0      nz = np.loadtxt(nz_fn)\n",
      "    21         1     103833.0 103833.0      0.0      tree = cKDTree(nz[:, 0].reshape(-1, 1)) \n",
      "    22                                               # caluclate the completeness rescaling of nz for FKP weight\n",
      "    23         1   96246964.0    1e+08      0.4      dv = (catalog[f'Z_{catas_type}'] - catalog['Z']) / (1 + catalog['Z']) * c\n",
      "    24         1   22557878.0    2e+07      0.1      dz = catalog[f'Z_{catas_type}'] - catalog['Z']\n",
      "    25                                               # tmp      = np.argsort(catalog['RA'], kind='mergesort')\n",
      "    26         1 8235812858.0    8e+09     32.8      tmp      = np.argsort(catalog,order=['RA', 'DEC'])\n",
      "    27         1  701609544.0    7e+08      2.8      catalog  = catalog[tmp]\n",
      "    28         1   40220111.0    4e+07      0.2      norm     = norm[tmp]\n",
      "    29         1   42924056.0    4e+07      0.2      dv       = dv[tmp]\n",
      "    30         1   34293754.0    3e+07      0.1      NX       = catalog['NX'].copy()\n",
      "    31         1    5310628.0    5e+06      0.0      norm[norm==0] = np.nan\n",
      "    32         1   20110120.0    2e+07      0.1      print('there are {} samples to find new FKP'.format(np.sum((dv!=0)&(np.isnan(norm)))))\n",
      "    33      4245   23197779.0   5464.7      0.1      for ID in np.where((dv!=0)&(np.isnan(norm)))[0]:\n",
      "    34      4244    6904443.0   1626.9      0.0          if (2<ID)&(ID<len(catalog)-2):\n",
      "    35      4244  859785836.0 202588.6      3.4              norm[ID] = np.nanmedian(norm[[ID-2,ID-1,ID+1,ID+2]])\n",
      "    36                                                   elif ID<2:\n",
      "    37                                                       norm[ID] = np.nanmedian(norm[[ID+1,ID+2]])\n",
      "    38                                                   elif ID>len(catalog)-2:\n",
      "    39                                                       norm[ID] = np.nanmedian(norm[[ID-2,ID-1]])\n",
      "    40                                                   # update NX for norm ==0\n",
      "    41      4244   48443367.0  11414.6      0.2          ind_newNZ = np.argmin(abs(catalog[f'Z_{catas_type}'][ID]-nz[:,0]))\n",
      "    42      4244   22115835.0   5211.1      0.1          NX[ID] = norm[ID]*nz[ind_newNZ,3]\n",
      "    43                                               # update NX and WEIGHT_FKP columns for all catastrophics\n",
      "    44         1    7351406.0    7e+06      0.0      sel = dv != 0\n",
      "    45         1   35724132.0    4e+07      0.1      _, ind_newNZ = tree.query(catalog[f'Z_{catas_type}'][sel].reshape(-1, 1))\n",
      "    46         1   13394161.0    1e+07      0.1      NX[sel] = norm[sel] * nz[ind_newNZ, 3]\n",
      "    47         1    9929476.0    1e+07      0.0      catalog[f'FKP_{catas_type}'][sel] = 1 / (NX[sel] * P0 + 1)\n",
      "    48         1   12288007.0    1e+07      0.0      catalog[f'FKP_{catas_type}'][np.isnan(catalog[f'FKP_{catas_type}'])] = 1\n",
      "    49         1     144950.0 144950.0      0.0      print('implement {} catastrophophics took time: {:.2f}s'.format(catas_type, time.time()-T0))\n",
      "    50         1        1e+10    1e+10     45.2      catalog.write(catalog_fn, overwrite=True)\n",
      "    51         1     125704.0 125704.0      0.0      print(f'{catas_type} catastrophics FKP corrected')\n",
      "    52         1       7524.0   7524.0      0.0      return(catalog[f'FKP_{catas_type}'])"
     ]
    }
   ],
   "source": [
    "%lprun -f FKPupdate_opt FKPupdate_opt('ELG_LOPnotqso', catalog_fn, nz_catas_fn, catas_type, NXnorm(catalog_fn, nz_catas_fn))"
   ]
  },
  {
   "cell_type": "code",
   "execution_count": null,
   "metadata": {},
   "outputs": [
    {
     "name": "stdout",
     "output_type": "stream",
     "text": [
      "there are 744 samples to find new FKP\n",
      "implement failures catastrophophics took time: 2.09s\n",
      "failures catastrophics FKP corrected\n"
     ]
    },
    {
     "name": "stdout",
     "output_type": "stream",
     "text": [
      "Timer unit: 1e-09 s\n",
      "\n",
      "Total time: 2.08746 s\n",
      "File: /tmp/ipykernel_2283123/3742182818.py\n",
      "Function: FKPupdate at line 1\n",
      "\n",
      "Line #      Hits         Time  Per Hit   % Time  Line Contents\n",
      "==============================================================\n",
      "     1                                           def FKPupdate(tracer, catalog_fn, nz_fn, catas_type, norm):\n",
      "     2         1       1492.0   1492.0      0.0      P0 = P0_values.get(tracer, None)\n",
      "     3         1        561.0    561.0      0.0      NRAN = NRAN_values.get(tracer, None)\n",
      "     4                                               # change WEIGHT_FKP of catastrophics\n",
      "     5         1       1183.0   1183.0      0.0      import time \n",
      "     6         1        671.0    671.0      0.0      T0=time.time()\n",
      "     7         1  466070348.0    5e+08     22.3      catalog=Table(fitsio.read(catalog_fn))\n",
      "     8                                               # Check for Z_{catas_type} existence\n",
      "     9         1      19968.0  19968.0      0.0      if f'Z_{catas_type}' not in catalog.colnames:\n",
      "    10                                                   raise ValueError(f\"Invalid Zcatas type: '{catas_type}'.\")\n",
      "    11                                               # find the nz of the true redshift\n",
      "    12         1    5395511.0    5e+06      0.3      catalog[f'FKP_{catas_type}'] = catalog['WEIGHT_FKP']*1\n",
      "    13         1     543525.0 543525.0      0.0      nz = np.loadtxt(nz_fn)\n",
      "    14                                           \n",
      "    15                                               # caluclate the completeness rescaling of nz for FKP weight\n",
      "    16         1    6158425.0    6e+06      0.3      dv   = (catalog[f'Z_{catas_type}']-catalog['Z'])/(1+catalog['Z'])*c\n",
      "    17         1    2274946.0    2e+06      0.1      dz   = (catalog[f'Z_{catas_type}']-catalog['Z'])\n",
      "    18         1 1376738553.0    1e+09     66.0      tmp      = np.argsort(catalog,order=['RA', 'DEC'])\n",
      "    19         1   36350992.0    4e+07      1.7      catalog  = catalog[tmp]\n",
      "    20         1    2151816.0    2e+06      0.1      norm     = norm[tmp]\n",
      "    21         1    2237587.0    2e+06      0.1      dv       = dv[tmp]\n",
      "    22         1    2700031.0    3e+06      0.1      NX       = catalog['NX']*1\n",
      "    23         1    1623941.0    2e+06      0.1      norm[norm==0] = np.nan\n",
      "    24         1    3279391.0    3e+06      0.2      print('there are {} samples to find new FKP'.format(np.sum((dv!=0)&(np.isnan(norm)))))\n",
      "    25       745    2899996.0   3892.6      0.1      for ID in np.where((dv!=0)&(np.isnan(norm)))[0]:\n",
      "    26       744    1238775.0   1665.0      0.1          if (2<ID)&(ID<len(catalog)-2):\n",
      "    27       744  147539886.0 198306.3      7.1              norm[ID] = np.nanmedian(norm[[ID-2,ID-1,ID+1,ID+2]])\n",
      "    28                                                   elif ID<2:\n",
      "    29                                                       norm[ID] = np.nanmedian(norm[[ID+1,ID+2]])\n",
      "    30                                                   elif ID>len(catalog)-2:\n",
      "    31                                                       norm[ID] = np.nanmedian(norm[[ID-2,ID-1]])\n",
      "    32                                                   # update NX for norm ==0\n",
      "    33       744    8028405.0  10790.9      0.4          ind_newNZ = np.argmin(abs(catalog[f'Z_{catas_type}'][ID]-nz[:,0]))\n",
      "    34       744    3840567.0   5162.1      0.2          NX[ID] = norm[ID]*nz[ind_newNZ,3]\n",
      "    35                                               # update NX and WEIGHT_FKP columns for all catastrophics\n",
      "    36         1    1162380.0    1e+06      0.1      sel = dv!=0\n",
      "    37         1    9476930.0    9e+06      0.5      ind_newNZ = np.argmin(abs(catalog[f'Z_{catas_type}'][sel]-nz[:,0][:,np.newaxis]),axis=0)\n",
      "    38         1    4260283.0    4e+06      0.2      NX[sel]  = norm[sel]*nz[ind_newNZ,3]\n",
      "    39         1    2101482.0    2e+06      0.1      catalog[f'FKP_{catas_type}'][sel] = 1 / (NX[sel]*P0+1)\n",
      "    40         1    1291390.0    1e+06      0.1      catalog[f'FKP_{catas_type}'][np.isnan(catalog[f'FKP_{catas_type}'])] = 1\n",
      "    41         1      60533.0  60533.0      0.0      print('implement {} catastrophophics took time: {:.2f}s'.format(catas_type, time.time()-T0))\n",
      "    42                                               # catalog.write(catalog_fn, overwrite=True)\n",
      "    43         1       8927.0   8927.0      0.0      print(f'{catas_type} catastrophics FKP corrected')\n",
      "    44         1       2575.0   2575.0      0.0      return(catalog[f'FKP_{catas_type}'])"
     ]
    }
   ],
   "source": [
    "%lprun -f FKPupdate FKPupdate('ELG_LOPnotqso', catalog_fn, nz_fn, catas_type, norm)"
   ]
  }
 ],
 "metadata": {
  "kernelspec": {
   "display_name": "rc_env",
   "language": "python",
   "name": "python3"
  },
  "language_info": {
   "codemirror_mode": {
    "name": "ipython",
    "version": 3
   },
   "file_extension": ".py",
   "mimetype": "text/x-python",
   "name": "python",
   "nbconvert_exporter": "python",
   "pygments_lexer": "ipython3",
   "version": "3.9.20"
  }
 },
 "nbformat": 4,
 "nbformat_minor": 2
}
