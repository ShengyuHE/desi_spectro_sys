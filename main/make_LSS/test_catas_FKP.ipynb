{
 "cells": [
  {
   "cell_type": "markdown",
   "metadata": {},
   "source": [
    "### FKP Calculation"
   ]
  },
  {
   "cell_type": "code",
   "execution_count": 3,
   "metadata": {},
   "outputs": [],
   "source": [
    "import os\n",
    "import glob\n",
    "import fitsio\n",
    "import argparse\n",
    "import numpy as np\n",
    "from astropy.io import fits\n",
    "from astropy.table import Table\n",
    "from matplotlib import pyplot as plt\n",
    "\n",
    "plt.rcParams['axes.labelsize'] = 14\n",
    "plt.rcParams['axes.titlesize'] = 14\n",
    "plt.rcParams['legend.fontsize'] = 14\n",
    "%config InlineBackend.figure_format = 'retina'\n",
    "%matplotlib inline"
   ]
  },
  {
   "cell_type": "code",
   "execution_count": 7,
   "metadata": {},
   "outputs": [],
   "source": [
    "nran_list = {'ELG_LOPnotqso':10, 'LRG':8, 'QSO':2}\n",
    "\n",
    "survey  ='Y1'\n",
    "specver ='iron'\n",
    "mockver ='v4_2'\n",
    "tracer  = 'ELG_LOPnotqso'\n",
    "region  ='NGC' #region NGC, SGC, GCcomb\n",
    "dn = 'dat'\n",
    "nran = nran_list[tracer]\n",
    "\n",
    "MOCKNUM = 0\n",
    "file_path = f'/pscratch/sd/s/shengyu/mocks/{survey}/Abacus_{mockver}/altmtl{MOCKNUM}/{specver}/mock{MOCKNUM}/LSScats'\n",
    "mock_type = 'clustering' #clustering or full_HPmapcut (before z selection and FKP weight assigments)\n",
    "catalog_fn = glob.glob(os.path.join(file_path, f'{tracer}_{region}_{mock_type}.{dn}.fits'))[0]"
   ]
  },
  {
   "cell_type": "code",
   "execution_count": null,
   "metadata": {},
   "outputs": [],
   "source": [
    "c = 299792 # speed of light in km/s\n",
    "P0_values = {'QSO': 6000, 'LRG': 10000, 'ELG_LOPnotqso': 4000, 'BGS': 7000}\n",
    "\n",
    "def catasfun(file_path, catas_type):\n",
    "    P0 = P0_values.get(tracer, None)\n",
    "    catalog_fn = file_path+ f'/{tracer}_{region}_{mock_type}.{dn}.fits'\n",
    "    catalog=Table(fitsio.read(catalog_fn))\n",
    "    try:\n",
    "        catalog[f'Z_{catas_type}']\n",
    "    except KeyError:\n",
    "        raise ValueError(f\"Invalid Zcatas type: '{catas_type}'.\")\n",
    "    if f'FKP_{catas_type}' in catalog.colnames:\n",
    "        print(f'{catas_type} catastrophics FKP ready:', catalog_fn)\n",
    "    else:\n",
    "        import time\n",
    "        T0=time.time()\n",
    "        catalog[f'FKP_{catas_type}'] = catalog['WEIGHT_FKP']*1\n",
    "        # change WEIGHT_FKP of catastrophics\n",
    "        nz        = np.loadtxt(file_path+f'/QSO_{region}_nz_{catas_type}.txt')\n",
    "        ## find the nz of the true redshift\n",
    "        ind_rawNZ = np.argmin(abs(catalog['Z']-nz[:,0][:,np.newaxis]),axis=0)\n",
    "        ## caluclate the completeness rescaling of nz for FKP weight\n",
    "        norm = catalog['NX']/nz[ind_rawNZ,3]\n",
    "        dv   = (catalog[f'Z_{catas_type}']-catalog['Z'])/(1+catalog['Z'])*c\n",
    "        dz   = (catalog[f'Z_{catas_type}']-catalog['Z'])\n",
    "        # note that FKP changes are fewer than z changes, this is because\n",
    "        ## 1. 1% of the extra catas has dv<1000km/s for z=1.32 catas(negligible)\n",
    "        ## 2. 99% of the extra catas was not from 0.8<Z_RAW<1.6=> need to find the norm of the closest NX for FKP calculation as they had norm==0\n",
    "        tmp      = np.argsort(catalog,order=['RA', 'DEC'])\n",
    "        catalog  = catalog[tmp]\n",
    "        norm     = norm[tmp]\n",
    "        dv       = dv[tmp]\n",
    "        NX       = catalog['NX']*1\n",
    "        norm[norm==0] = np.nan\n",
    "        print('there are {} samples to find new FKP'.format(np.sum((dv!=0)&(np.isnan(norm)))))\n",
    "        for ID in np.where((dv!=0)&(np.isnan(norm)))[0]:\n",
    "            if (2<ID)&(ID<len(catalog)-2):\n",
    "                norm[ID] = np.nanmedian(norm[[ID-2,ID-1,ID+1,ID+2]])\n",
    "            elif ID<2:\n",
    "                norm[ID] = np.nanmedian(norm[[ID+1,ID+2]])\n",
    "            elif ID>len(catalog)-2:\n",
    "                norm[ID] = np.nanmedian(norm[[ID-2,ID-1]])\n",
    "            # update NX for norm ==0\n",
    "            ind_newNZ = np.argmin(abs(catalog[f'Z_{catas_type}'][ID]-nz[:,0]))\n",
    "            NX[ID] = norm[ID]*nz[ind_newNZ,3]\n",
    "        #select all catastrophics\n",
    "        sel = dv!=0\n",
    "        ind_newNZ = np.argmin(abs(catalog[f'Z_{catas_type}'][sel]-nz[:,0][:,np.newaxis]),axis=0)\n",
    "        # update NX and WEIGHT_FKP columns for all catastrophics\n",
    "        NX[sel]  = norm[sel]*nz[ind_newNZ,3]\n",
    "        catalog[f'FKP_{catas_type}'][sel] = 1 / (NX[sel]*P0+1)\n",
    "        catalog[f'FKP_{catas_type}'][np.isnan(catalog[f'FKP_{catas_type}'])] = 1\n",
    "        # find the nz of the catastrophics redshift\n",
    "        print('implement {} catastrophophics took time: {:.2f}s'.format(catas_type, time.time()-T0))\n",
    "        catalog.write(catalog_fn,overwrite=True)\n",
    "        print(f'{catas_type} catastrophics FKP corrected')"
   ]
  },
  {
   "cell_type": "code",
   "execution_count": 14,
   "metadata": {},
   "outputs": [
    {
     "name": "stdout",
     "output_type": "stream",
     "text": [
      "/pscratch/sd/s/shengyu/mocks/Y1/Abacus_v4_2/altmtl0/iron/mock0/LSScats\n",
      "/pscratch/sd/s/shengyu/mocks/Y1/Abacus_v4_2/altmtl0/iron/mock0/LSScats/ELG_LOPnotqso_NGC_clustering.dat.fits\n",
      "there are 255 samples to find new FKP\n",
      "implement realistic catastrophophics took time: 4.68s\n",
      "realistic catastrophics FKP corrected\n",
      "/pscratch/sd/s/shengyu/mocks/Y1/Abacus_v4_2/altmtl0/iron/mock0/LSScats\n",
      "/pscratch/sd/s/shengyu/mocks/Y1/Abacus_v4_2/altmtl0/iron/mock0/LSScats/ELG_LOPnotqso_NGC_clustering.dat.fits\n",
      "there are 744 samples to find new FKP\n",
      "implement failures catastrophophics took time: 4.80s\n",
      "failures catastrophics FKP corrected\n"
     ]
    }
   ],
   "source": [
    "for catas_type in ['realistic','failures']:\n",
    "    catasfun(file_path, catas_type=catas_type)\n"
   ]
  },
  {
   "cell_type": "code",
   "execution_count": 41,
   "metadata": {},
   "outputs": [
    {
     "name": "stdout",
     "output_type": "stream",
     "text": [
      "['TARGETID', 'RA', 'DEC', 'Z', 'NTILE', 'PHOTSYS', 'FRAC_TLOBS_TILES', 'Z_realistic', 'Z_failures', 'WEIGHT', 'WEIGHT_ZFAIL', 'WEIGHT_COMP', 'WEIGHT_SYS', 'NX', 'WEIGHT_FKP', 'FKP_realistic', 'FKP_failures']\n",
      "(array([    184,     511,     548, ..., 1812590, 1812710, 1812785]),)\n"
     ]
    }
   ],
   "source": [
    "catalog=Table(fitsio.read(catalog_fn))\n",
    "print(catalog.colnames)\n",
    "print(np.nonzero(catalog['WEIGHT_FKP']-catalog['FKP_realistic']))"
   ]
  }
 ],
 "metadata": {
  "kernelspec": {
   "display_name": "rc_env",
   "language": "python",
   "name": "python3"
  },
  "language_info": {
   "codemirror_mode": {
    "name": "ipython",
    "version": 3
   },
   "file_extension": ".py",
   "mimetype": "text/x-python",
   "name": "python",
   "nbconvert_exporter": "python",
   "pygments_lexer": "ipython3",
   "version": "3.9.20"
  }
 },
 "nbformat": 4,
 "nbformat_minor": 2
}
