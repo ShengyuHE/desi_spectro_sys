{
 "cells": [
  {
   "cell_type": "markdown",
   "metadata": {},
   "source": [
    "## MCMC Sampling\n",
    "\n",
    "This notebook "
   ]
  },
  {
   "cell_type": "code",
   "execution_count": 4,
   "metadata": {},
   "outputs": [],
   "source": [
    "import os\n",
    "import glob\n",
    "import numpy as np\n",
    "import matplotlib\n",
    "import matplotlib.gridspec as gridspec\n",
    "from matplotlib import pyplot as plt\n",
    "from getdist import plots\n",
    "\n",
    "# from mockfactory import Catalog\n",
    "from cosmoprimo.fiducial import DESI\n",
    "from desilike.theories.galaxy_clustering import FOLPSTracerPowerSpectrumMultipoles, FOLPSRCTracerPowerSpectrumMultipoles\n",
    "from desilike.observables.galaxy_clustering import TracerPowerSpectrumMultipolesObservable\n",
    "from desilike.emulators import EmulatedCalculator, Emulator, TaylorEmulatorEngine\n",
    "from desilike.likelihoods import ObservablesGaussianLikelihood\n",
    "from desilike.samplers.emcee import EmceeSampler\n",
    "from desilike.samples import Profiles, plotting, Chain\n",
    "from desilike import setup_logging\n",
    "setup_logging()  # for logging messages\n",
    "\n",
    "plt.rcParams['axes.labelsize'] = 14\n",
    "plt.rcParams['axes.titlesize'] = 14\n",
    "plt.rcParams['legend.fontsize'] = 14\n",
    "%config InlineBackend.figure_format = 'retina'\n",
    "%matplotlib inline"
   ]
  },
  {
   "cell_type": "code",
   "execution_count": 5,
   "metadata": {},
   "outputs": [],
   "source": [
    "# vairables for targets\n",
    "tracer = \"ELG_LOPnotqso\" \n",
    "region = \"SGC\"  # NGC or SGC\n",
    "mocks_fn = os.path.join(os.environ['SCRATCH'], \"mocks/\")\n",
    "pk_dir = os.path.join(os.environ['HOME'], \"project_rc/main/data/pk/\")\n",
    "pk_run = os.path.join(os.environ['HOME'], \"project_rc/main/desihub/pkrun.py\")"
   ]
  },
  {
   "cell_type": "code",
   "execution_count": 6,
   "metadata": {},
   "outputs": [],
   "source": [
    "# set the k bins\n",
    "kmin     = 0.005\n",
    "kmax     = 0.2\n",
    "binning  = 0.005\n",
    "k_ev     = np.arange(kmin, kmax+0.001, binning)\n",
    "klim     = {ell*2: (kmin,kmax,binning) for ell in range(2)}\n",
    "\n",
    "redshift = 1.0\n",
    "cosmology = 'LCDM' #LCDM, nuCDM, wCDM\n",
    "theory_model = 'FOLPS'  # TNS, FOLPS, FOLPSRC\n",
    "\n",
    "emulator_fn = f'./results/emulators/emulator_{cosmology}_{theory_model}.npy'\n",
    "chain_fn = f'./results/samples/{cosmology}/chain_{tracer}_{region}_z{redshift}.npy'"
   ]
  },
  {
   "cell_type": "code",
   "execution_count": null,
   "metadata": {},
   "outputs": [],
   "source": [
    "if not os.path.exists(chain_fn):\n",
    "    pk_fn = pk_dir+f'pkpoles_{tracer}_{region}_0.8_1.1_default_FKP_lin_thetacut0.05.npy'\n",
    "    cov_dir = '/global/cfs/cdirs/desi/survey/catalogs/Y1/mocks/SecondGenMocks/EZmock/desipipe/v1/ffa/2pt/'\n",
    "    cov_fn = f'pkpoles_ELG_LOP_{region}_z0.8-1.1_default_FKP_lin_nran10_cellsize6_boxsize9000.npy'\n",
    "\n",
    "    cov_fns = []\n",
    "    for i in range(100, 200):\n",
    "        mock_dir = f'mock{i}/pk/'\n",
    "        cov_fns.extend(glob.glob(os.path.join(cov_dir,  mock_dir, cov_fn), recursive=True))\n",
    "    \n",
    "    if theory_model == 'FOLPS':\n",
    "        theory = FOLPSTracerPowerSpectrumMultipoles(pt=EmulatedCalculator.load(emulator_fn))\n",
    "    if theory_model == 'FOLPSRC':\n",
    "        theory = FOLPSRCTracerPowerSpectrumMultipoles(pt=EmulatedCalculator.load(emulator_fn))  \n",
    "    \n",
    "    observable = TracerPowerSpectrumMultipolesObservable(data= pk_fn, \n",
    "                                                        klim=klim, \n",
    "                                                        covariance = cov_fns,)\n",
    "    likelihood = ObservablesGaussianLikelihood(observable)\n",
    "    likelihood()\n",
    "    sampler = EmceeSampler(likelihood, seed=42, nwalkers=120, save_fn =chain_fn)\n",
    "    sampler.run(check={'max_eigen_gr': 0.05}, max_iterations = 9001) # save every 300 iterations"
   ]
  },
  {
   "cell_type": "code",
   "execution_count": null,
   "metadata": {},
   "outputs": [],
   "source": [
    "burnin      = 0.60\n",
    "slice_step  = 500\n",
    "\n",
    "chain       = Chain.load(chain_fn).remove_burnin(burnin)[::slice_step]\n",
    "# print(chain.to_stats(tablefmt='pretty'))\n",
    "samples     = chain\n",
    "\n",
    "params = ['h','omega_cdm','logA']\n",
    "\n",
    "g = plots.get_subplot_plotter()\n",
    "g.settings.fig_width_inch= 8\n",
    "g.settings.legend_fontsize = 20\n",
    "g.settings.axes_labelsize = 20\n",
    "g.settings.axes_fontsize = 16\n",
    "g.settings.figure_legend_frame = False\n",
    "\n",
    "def plot_cosparams():\n",
    "    plotting.plot_triangle(chain, title_limit=0, params = params,\n",
    "                               legend_labels = [r'clean', r'1% catas', r'5% catas'], legend_loc= 'upper right',\n",
    "                                # legend_labels=[],\n",
    "                                smoothed=True, g=g)\n",
    "    def set_true_values(catalogue, params):\n",
    "        update_values = {\n",
    "            'fiducial': {'h': 0.6711, 'omega_cdm': 0.1209, 'Omega_cdm': 0.2685, 'omega_b':0.02207,'logA': 3.0631, 'm_ncdm': 0.0, 'n_s':0.9624, 'w0_fld':-1.0},\n",
    "            'Mnu_p': {'h': 0.6711, 'omega_cdm': 0.1198, 'Omega_cdm': 0.2661, 'omega_b':0.02207,'logA': 3.1247, 'm_ncdm': 0.1, 'n_s':0.9624, 'w0_fld':-1.0},\n",
    "            'Mnu_ppp': {'h': 0.6711, 'omega_cdm': 0.1166, 'Omega_cdm': 0.2590, 'omega_b':0.02207,'logA': 3.3113, 'm_ncdm': 0.4, 'n_s':0.9624, 'w0_fld':-1.0}\n",
    "        }\n",
    "        if catalogue in update_values:\n",
    "            truth_values = update_values[catalogue]\n",
    "        return [truth_values[param] for param in params if param in truth_values]\n",
    "    true_values = set_true_values(catalogue, params)\n",
    "    for i in range(len(true_values)):\n",
    "        for j in range(i+1):\n",
    "            g.subplots[i,j].axvline(true_values[j], c = 'k', ls = ':', lw = 1.2)\n",
    "            if i != j:\n",
    "                g.subplots[i,j].axhline(true_values[i], c = 'k', ls = ':', lw = 1.2)"
   ]
  }
 ],
 "metadata": {
  "kernelspec": {
   "display_name": "Python 3",
   "language": "python",
   "name": "python3"
  },
  "language_info": {
   "codemirror_mode": {
    "name": "ipython",
    "version": 3
   },
   "file_extension": ".py",
   "mimetype": "text/x-python",
   "name": "python",
   "nbconvert_exporter": "python",
   "pygments_lexer": "ipython3",
   "version": "3.9.20"
  }
 },
 "nbformat": 4,
 "nbformat_minor": 2
}
